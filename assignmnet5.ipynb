{
 "cells": [
  {
   "cell_type": "code",
   "execution_count": 5,
   "metadata": {},
   "outputs": [
    {
     "name": "stdout",
     "output_type": "stream",
     "text": [
      "enter factoria,l no3\n",
      "The factorial of 3 is  6\n"
     ]
    }
   ],
   "source": [
    "\n",
    "number = int(input(\"enter factoria,l no\"))\n",
    "factorial = 1\n",
    "def fact(number, factorial=1):\n",
    "\n",
    "    if number < 0:\n",
    "        print(\"Factorial does not exist for negative numbers\")\n",
    "    elif number == 0:\n",
    "        print(\"Factorial of 0 is 1\")\n",
    "    else :\n",
    "        for i in range (1, number + 1):\n",
    "            factorial = factorial * i\n",
    "        print (\"The factorial of\", number, \"is \", factorial)\n",
    "fact(number  , factorial = 1)"
   ]
  },
  {
   "cell_type": "code",
   "execution_count": 6,
   "metadata": {},
   "outputs": [
    {
     "name": "stdout",
     "output_type": "stream",
     "text": [
      "Original string : It is Good to know that God is Always their For Us\n",
      "Total Uppercase:  6\n",
      "Total Lowercase:  33\n"
     ]
    }
   ],
   "source": [
    "def countcase(strdata):\n",
    "    sencase={'UCASE':0,'LCASE':0}\n",
    "    for k in strdata:\n",
    "        if k.isupper():\n",
    "            sencase['UCASE']+=1\n",
    "        elif k.islower():\n",
    "            sencase['LCASE']+=1\n",
    "        else:\n",
    "            pass\n",
    "    print(\"Original string :\" , strdata)\n",
    "    print(\"Total Uppercase: \" , sencase[\"UCASE\"])\n",
    "    print(\"Total Lowercase: \", sencase[\"LCASE\"])\n",
    "countcase(\"It is Good to know that God is Always their For Us\")"
   ]
  },
  {
   "cell_type": "code",
   "execution_count": 7,
   "metadata": {},
   "outputs": [
    {
     "name": "stdout",
     "output_type": "stream",
     "text": [
      "Prime Number\n"
     ]
    }
   ],
   "source": [
    "n = 5\n",
    "c = 0\n",
    "def prim(n=5, c=0):\n",
    "    for i in range (2,n,1):\n",
    "        if n%i == 0:\n",
    "            c = c + 1\n",
    "if c == 0:\n",
    "    print (\"Prime Number\")\n",
    "else:\n",
    "    print (\"Not a prime number\")"
   ]
  },
  {
   "cell_type": "code",
   "execution_count": 9,
   "metadata": {},
   "outputs": [
    {
     "name": "stdout",
     "output_type": "stream",
     "text": [
      "Enter a string: mom\n",
      "String : mom\n",
      "Reverse : mom\n",
      "It is a palindrome\n"
     ]
    }
   ],
   "source": [
    "\n",
    "def check(st):\n",
    "    rev = st[: :-1]\n",
    "    print(\"String :\", st)\n",
    "    print(\"Reverse :\", rev)\n",
    "    if(st==rev):\n",
    "        return True\n",
    "    else:\n",
    "        return False\n",
    "x= input(\"Enter a string: \")\n",
    "if check(x):\n",
    "    print(\"It is a palindrome\")\n",
    "else:\n",
    "    print(\"It is not a palindrome\")"
   ]
  },
  {
   "cell_type": "code",
   "execution_count": 10,
   "metadata": {},
   "outputs": [
    {
     "name": "stdout",
     "output_type": "stream",
     "text": [
      "[2, 4, 6, 8, 10, 12, 14, 16, 18, 20]\n"
     ]
    }
   ],
   "source": [
    "xs = [1,2,3,4,5,6,7,8,9,10,11,12,13,14,15,16,17,18,19,20]\n",
    "\n",
    "even_list =[]\n",
    "\n",
    "for i in xs:\n",
    "    if i % 2 ==0:\n",
    "        even_list.append(i)\n",
    "        \n",
    "print(even_list)"
   ]
  },
  {
   "cell_type": "code",
   "execution_count": 11,
   "metadata": {},
   "outputs": [
    {
     "name": "stdout",
     "output_type": "stream",
     "text": [
      "The items customer bought are as follows: \n",
      "Milk\n",
      "Powder\n",
      "Chicken\n",
      "Chocolate\n"
     ]
    }
   ],
   "source": [
    "\n",
    "def items(*names):\n",
    "    print(\"The items customer bought are as follows: \")\n",
    "    for item in names:\n",
    "        print(item)\n",
    "\n",
    "items(\"Milk\", \"Powder\", \"Chicken\", \"Chocolate\")"
   ]
  },
  {
   "cell_type": "code",
   "execution_count": null,
   "metadata": {},
   "outputs": [],
   "source": []
  }
 ],
 "metadata": {
  "kernelspec": {
   "display_name": "Python 3",
   "language": "python",
   "name": "python3"
  },
  "language_info": {
   "codemirror_mode": {
    "name": "ipython",
    "version": 3
   },
   "file_extension": ".py",
   "mimetype": "text/x-python",
   "name": "python",
   "nbconvert_exporter": "python",
   "pygments_lexer": "ipython3",
   "version": "3.7.4"
  }
 },
 "nbformat": 4,
 "nbformat_minor": 2
}

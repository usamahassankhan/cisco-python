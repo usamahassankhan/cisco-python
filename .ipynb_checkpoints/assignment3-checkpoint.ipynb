{
 "cells": [
  {
   "cell_type": "code",
   "execution_count": null,
   "metadata": {},
   "outputs": [],
   "source": [
    "\"\"\"\n",
    "Make a calculator using Python with addition , subtraction , multiplication ,\n",
    "division and power.\n",
    "\"\"\"\"\n"
   ]
  },
  {
   "cell_type": "code",
   "execution_count": 4,
   "metadata": {},
   "outputs": [
    {
     "name": "stdout",
     "output_type": "stream",
     "text": [
      "7\n",
      "12\n"
     ]
    }
   ],
   "source": [
    "class Calc:\n",
    "    def __init__(self, num1,num2):\n",
    "            self.num1=num1\n",
    "            self.num2=num2\n",
    "    def add(self):\n",
    "        print(self.num1+self.num2)\n",
    "    def mult(self):\n",
    "        print(self.num1*self.num2)\n",
    "    def minus(self):\n",
    "        print(self.num1-self.num2)    \n",
    "    def divide(self):\n",
    "        print(self.num1/self.num2) \n",
    "num=Calc(4,3)\n",
    "num.add()\n",
    "num.mult()            "
   ]
  },
  {
   "cell_type": "code",
   "execution_count": 11,
   "metadata": {},
   "outputs": [
    {
     "name": "stdout",
     "output_type": "stream",
     "text": [
      "[1, 2, 4, 5]\n",
      "['a', 'b', '1']\n",
      "number of numeric value is 5\n",
      "number of character value is 4\n"
     ]
    }
   ],
   "source": [
    "\"\"\"\n",
    "Write a program to check if there is any numeric value in list using for loop\"\"\"\n",
    "list=[1,2,4,5,\"a\",\"b\",\"1\"]\n",
    "num=[]\n",
    "char=[]\n",
    "numeric=1\n",
    "character=1\n",
    "for i in list:\n",
    "    if (type(i)==int):\n",
    "        num.append(i)\n",
    "        numeric+=1\n",
    "    else:\n",
    "        char.append(i)\n",
    "        character+=1\n",
    "print(num)\n",
    "print(char)\n",
    "print(\"number of numeric value is\",numeric)\n",
    "print(\"number of character value is\",character)\n",
    "    "
   ]
  },
  {
   "cell_type": "code",
   "execution_count": 23,
   "metadata": {},
   "outputs": [
    {
     "name": "stdout",
     "output_type": "stream",
     "text": [
      "{1: 'a', 2: 'b', 3: 'c', 4: 'd'}\n",
      "(1, 'a')\n",
      "(2, 'b')\n",
      "(3, 'c')\n",
      "(4, 'd')\n",
      "a\n",
      "b\n",
      "c\n",
      "d\n",
      "{1: 'a', 2: 'b', 3: 'c', 4: 'd', 5: 'f'}\n",
      "sum of keys is 11\n"
     ]
    }
   ],
   "source": [
    "\"\"\"\n",
    "Write a Python script to add a key to a dictionary\"\"\"\n",
    "dict={1:\"a\",2:\"b\",3:\"c\",4:\"d\"}\n",
    "print(dict)\n",
    "sumed=1\n",
    "for i in dict.items():\n",
    "    print(i)\n",
    "for i in dict.keys():\n",
    "      sumed+=i\n",
    "for i in dict.values():\n",
    "    print(i) \n",
    "dict[5]=\"f\"\n",
    "print(dict)\n",
    "print(\"sum of keys is\",sumed)\n",
    "    \n"
   ]
  },
  {
   "cell_type": "code",
   "execution_count": 27,
   "metadata": {},
   "outputs": [
    {
     "name": "stdout",
     "output_type": "stream",
     "text": [
      "sum of keys 10\n",
      "sum of valued 19\n"
     ]
    }
   ],
   "source": [
    "\"\"\"\n",
    "Write a Python program to sum all the numeric items in a dictionary\"\"\"\n",
    "keyd=0\n",
    "valued=0\n",
    "dict={\n",
    "    1:2,2:4,3:5,4:8}\n",
    "for keys,values in dict.items():\n",
    "    keyd+=keys\n",
    "    valued+=values\n",
    "print(\"sum of keys\",keyd)\n",
    "print('sum of valued',valued)\n",
    "    "
   ]
  },
  {
   "cell_type": "code",
   "execution_count": 38,
   "metadata": {},
   "outputs": [
    {
     "data": {
      "text/plain": [
       "[2, 4, 10, 20, 5]"
      ]
     },
     "execution_count": 38,
     "metadata": {},
     "output_type": "execute_result"
    }
   ],
   "source": [
    "\"\"\"\n",
    "remove duplicate value in list\n",
    "\"\"\"\n",
    "def Remove(duplicate): \n",
    "    final_list = [] \n",
    "    for num in duplicate: \n",
    "        if num not in final_list: \n",
    "            final_list.append(num) \n",
    "    return final_list \n",
    "duplicate = [2, 4, 10, 20, 5, 2, 20, 4] \n",
    "Remove(duplicate) \n",
    "    "
   ]
  },
  {
   "cell_type": "code",
   "execution_count": 45,
   "metadata": {},
   "outputs": [
    {
     "name": "stdout",
     "output_type": "stream",
     "text": [
      "Key is present in the dictionary\n",
      "Key is not present in the dictionary\n"
     ]
    }
   ],
   "source": [
    "\"\"\"\n",
    "Write a Python script to check if a given key already exists in a dictionary\n",
    "\"\"\"\n",
    "d = {1: 10, 2: 20, 3: 30, 4: 40, 5: 50, 6: 60}\n",
    "def is_key_present(x):\n",
    "  if x in d:\n",
    "      print('Key is present in the dictionary')\n",
    "  else:\n",
    "      print('Key is not present in the dictionary')\n",
    "is_key_present(5)\n",
    "is_key_present(9)\n",
    "    "
   ]
  },
  {
   "cell_type": "code",
   "execution_count": null,
   "metadata": {},
   "outputs": [],
   "source": []
  }
 ],
 "metadata": {
  "kernelspec": {
   "display_name": "Python 3",
   "language": "python",
   "name": "python3"
  },
  "language_info": {
   "codemirror_mode": {
    "name": "ipython",
    "version": 3
   },
   "file_extension": ".py",
   "mimetype": "text/x-python",
   "name": "python",
   "nbconvert_exporter": "python",
   "pygments_lexer": "ipython3",
   "version": "3.7.4"
  }
 },
 "nbformat": 4,
 "nbformat_minor": 2
}

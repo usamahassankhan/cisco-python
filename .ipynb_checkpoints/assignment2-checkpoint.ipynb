{
 "cells": [
  {
   "cell_type": "code",
   "execution_count": 14,
   "metadata": {},
   "outputs": [
    {
     "name": "stdout",
     "output_type": "stream",
     "text": [
      "Enter 5  values 50,60,100,39,60\n",
      "maths marksr is:  50\n",
      "chem marks is  60\n",
      "phy marks is  100\n",
      "eng marks is  39\n",
      "urdu marks is  60\n",
      "309\n",
      "61.8\n",
      "D\n"
     ]
    }
   ],
   "source": [
    "\"\"\"\n",
    "Write a program which takes 5 inputs from user for different subject’s\n",
    "marks, total it and generate mark sheet using grades ?\"\"\"\n",
    "\n",
    "math,chem,phy,eng ,urdu = [int(x) for x in input(\"Enter 5  values \").split(\",\")] \n",
    "print(\"maths marksr is: \", math) \n",
    "print(\"chem marks is \",chem)\n",
    "print(\"phy marks is \",phy)\n",
    "print(\"eng marks is \",eng)\n",
    "print(\"urdu marks is \",urdu)\n",
    "\n",
    "sum=math+chem+phy+eng+urdu\n",
    "print(sum)\n",
    "percentage=(sum/500)*100\n",
    "print(percentage)\n",
    "if percentage>=90:\n",
    "    grade='A'\n",
    "elif percentage>=80 and percentage <90:\n",
    "    grade='B'\n",
    "elif percentage>=70 and percentage<80:\n",
    "    grade='C'\n",
    "elif percentage>=60 and percentage<70:\n",
    "    grade='D'    \n",
    "elif percentage>=50 and percentage<60:\n",
    "    grade='E'\n",
    "elif percentage>0 and percentage<50:\n",
    "    grade='Fail' \n",
    "print(grade)    "
   ]
  },
  {
   "cell_type": "code",
   "execution_count": 16,
   "metadata": {},
   "outputs": [
    {
     "name": "stdout",
     "output_type": "stream",
     "text": [
      "enter numbr3\n",
      "odd\n"
     ]
    }
   ],
   "source": [
    "\"\"\"\n",
    "Write a program which take input from user and identify that the given\n",
    "number is even or odd?\"\"\"\n",
    "a=int(input(\"enter numbr\"))\n",
    "if a%2==0:\n",
    "    num=\"even\"\n",
    "else:\n",
    "    num=\"odd\"\n",
    "print(num)    \n",
    "    "
   ]
  },
  {
   "cell_type": "code",
   "execution_count": 20,
   "metadata": {},
   "outputs": [
    {
     "name": "stdout",
     "output_type": "stream",
     "text": [
      "9\n"
     ]
    }
   ],
   "source": [
    "\"\"\"\n",
    "Write a program which print the length of the list?\"\"\"\n",
    "x=[x for x in range(1,10)]\n",
    "print(len(x))"
   ]
  },
  {
   "cell_type": "code",
   "execution_count": 33,
   "metadata": {},
   "outputs": [
    {
     "name": "stdout",
     "output_type": "stream",
     "text": [
      "[1, 2, 3, 'a', 4, 'f']\n",
      "[1, 2, 3, 4]\n",
      "4\n"
     ]
    }
   ],
   "source": [
    "\"\"\"\n",
    "Write a Python program to sum all the numeric items in a list?\"\"\"\n",
    "a=[1,2,3,\"a\",4,\"f\"]\n",
    "print(a)\n",
    "type(a)\n",
    "num=[]\n",
    "for i in range(0,len(a)):\n",
    "    if type(a[i])==int:\n",
    "        num.append(a[i])\n",
    "print(num) \n",
    "print(len(num))\n",
    "\n"
   ]
  },
  {
   "cell_type": "code",
   "execution_count": 35,
   "metadata": {},
   "outputs": [
    {
     "data": {
      "text/plain": [
       "12"
      ]
     },
     "execution_count": 35,
     "metadata": {},
     "output_type": "execute_result"
    }
   ],
   "source": [
    "\"\"\"\n",
    "Write a Python program to get the largest number from a numeric list.\"\"\"\n",
    "a=[1,2,4,0,12,5]\n",
    "max(a)\n"
   ]
  },
  {
   "cell_type": "code",
   "execution_count": 39,
   "metadata": {},
   "outputs": [
    {
     "name": "stdout",
     "output_type": "stream",
     "text": [
      "[1, 1, 2, 3]\n"
     ]
    }
   ],
   "source": [
    "\"\"\"\n",
    "Take a list, say for example this one:\n",
    "a = [1, 1, 2, 3, 5, 8, 13, 21, 34, 55, 89]\n",
    "and write a program that prints out all the elements of the list that are\n",
    "less than 5.\"\"\"\n",
    "less=[]\n",
    "a = [1, 1, 2, 3, 5, 8, 13, 21, 34, 55, 89]\n",
    "for i in a:\n",
    "    if i<5:\n",
    "        less.append(i)\n",
    "print(less)\n",
    "        "
   ]
  },
  {
   "cell_type": "code",
   "execution_count": null,
   "metadata": {},
   "outputs": [],
   "source": []
  }
 ],
 "metadata": {
  "kernelspec": {
   "display_name": "Python 3",
   "language": "python",
   "name": "python3"
  },
  "language_info": {
   "codemirror_mode": {
    "name": "ipython",
    "version": 3
   },
   "file_extension": ".py",
   "mimetype": "text/x-python",
   "name": "python",
   "nbconvert_exporter": "python",
   "pygments_lexer": "ipython3",
   "version": "3.7.4"
  }
 },
 "nbformat": 4,
 "nbformat_minor": 2
}

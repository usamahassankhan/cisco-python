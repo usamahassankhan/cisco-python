{
 "cells": [
  {
   "cell_type": "code",
   "execution_count": 1,
   "metadata": {},
   "outputs": [
    {
     "data": {
      "text/plain": [
       "'\\nQuestion1:\\nUse a dictionary to store information about a person you know. Store their first name, last name, age,\\nand the city in which they live. You should have keys such as first_name, last_name, age, and city. Print\\neach piece of information stored in your dictionary. Add a new key value pair about qualification then\\nupdate the qualification value to high academic level then delete it.\\n'"
      ]
     },
     "execution_count": 1,
     "metadata": {},
     "output_type": "execute_result"
    }
   ],
   "source": [
    "\n",
    "\"\"\"\n",
    "Question1:\n",
    "Use a dictionary to store information about a person you know. Store their first name, last name, age,\n",
    "and the city in which they live. You should have keys such as first_name, last_name, age, and city. Print\n",
    "each piece of information stored in your dictionary. Add a new key value pair about qualification then\n",
    "update the qualification value to high academic level then delete it.\n",
    "\"\"\""
   ]
  },
  {
   "cell_type": "code",
   "execution_count": 2,
   "metadata": {},
   "outputs": [
    {
     "name": "stdout",
     "output_type": "stream",
     "text": [
      "enter name of person which u wana check informationusama\n",
      "{'firstname': 'usama', 'lastname': 'khan', 'age': 21, 'city': 'karachi'}\n",
      "{'usama': {'firstname': 'usama', 'lastname': 'khan', 'age': 21, 'city': 'karachi', 'qualification': 'intermediate'}, 'shariq': {'firstname': 'shariq', 'lastname': 'ateeq', 'age': 21, 'city': 'larkana'}, 'wahaj': {'firstname': 'wahaj', 'lastname': 'ahmed', 'age': 22, 'city': 'sakhar'}}\n",
      "{'usama': {'firstname': 'usama', 'lastname': 'khan', 'age': 21, 'city': 'karachi', 'qualification': 'bachelor'}, 'shariq': {'firstname': 'shariq', 'lastname': 'ateeq', 'age': 21, 'city': 'larkana'}, 'wahaj': {'firstname': 'wahaj', 'lastname': 'ahmed', 'age': 22, 'city': 'sakhar'}}\n"
     ]
    }
   ],
   "source": [
    "search=input(\"enter name of person which u wana check information\")\n",
    "info={'usama':{'firstname':'usama',\n",
    "      \"lastname\":\"khan\",\n",
    "      'age':21,\n",
    "      'city':'karachi'},\n",
    "      'shariq':{'firstname':'shariq',\n",
    "      \"lastname\":\"ateeq\",\n",
    "      'age':21,\n",
    "      'city':'larkana'},\n",
    "       'wahaj':{'firstname':'wahaj',\n",
    "      \"lastname\":\"ahmed\",\n",
    "      'age':22,\n",
    "      'city':'sakhar'}}\n",
    "for i in info.keys():\n",
    "    if (i==search):\n",
    "        print(info[search])\n",
    "info['usama']['qualification']='intermediate'        \n",
    "print(info)\n",
    "info['usama']['qualification']='bachelor'       \n",
    "print(info)    \n"
   ]
  },
  {
   "cell_type": "code",
   "execution_count": 3,
   "metadata": {},
   "outputs": [
    {
     "name": "stdout",
     "output_type": "stream",
     "text": [
      "\n",
      "Santiago is in Chile.\n",
      "  It has a population of about 6158080.\n",
      "  The Andes mountains are nearby.\n",
      "\n",
      "Talkeetna is in Alaska.\n",
      "  It has a population of about 876.\n",
      "  The Alaska Range mountains are nearby.\n",
      "\n",
      "Kathmandu is in Nepal.\n",
      "  It has a population of about 1003285.\n",
      "  The Himilaya mountains are nearby.\n"
     ]
    }
   ],
   "source": [
    "\"\"\"\n",
    "Question2:\n",
    "Make a dictionary called cities. Use the names of three cities as keys in your dictionary. Create a\n",
    "dictionary of information about each city and include the country that the city is in, its approximate\n",
    "population, and one fact about that city. The keys for each city’s dictionary should be something like\n",
    "country, population, and fact. Print the name of each city and all of the information you have stored\n",
    "about it.\"\"\"\n",
    "cities = {\n",
    "    'santiago': {\n",
    "        'country': 'chile',\n",
    "        'population': 6158080,\n",
    "        'nearby mountains': 'andes',\n",
    "        },\n",
    "    'talkeetna': {\n",
    "        'country': 'alaska',\n",
    "        'population': 876,\n",
    "        'nearby mountains': 'alaska range',\n",
    "        },\n",
    "    'kathmandu': {\n",
    "        'country': 'nepal',\n",
    "        'population': 1003285,\n",
    "        'nearby mountains': 'himilaya',\n",
    "        }\n",
    "    }\n",
    "\n",
    "for city, city_info in cities.items():\n",
    "    country = city_info['country'].title()\n",
    "    population = city_info['population']\n",
    "    mountains = city_info['nearby mountains'].title()\n",
    "\n",
    "    print(\"\\n\" + city.title() + \" is in \" + country + \".\")\n",
    "    print(\"  It has a population of about \" + str(population) + \".\")\n",
    "    print(\"  The \" + mountains + \" mountains are nearby.\")"
   ]
  },
  {
   "cell_type": "code",
   "execution_count": 4,
   "metadata": {},
   "outputs": [
    {
     "name": "stdout",
     "output_type": "stream",
     "text": [
      "enter age4\n",
      "you have to pay10$\n"
     ]
    }
   ],
   "source": [
    "\"\"\"\n",
    "Question3:\n",
    "A movie theater charges different ticket prices depending on a person’s age. If a person is under the age\n",
    "of 3, the ticket is free; if they are between 3 and 12, the ticket is $10; and if they are over age 12, the\n",
    "ticket is $15. Write a loop in which you ask users their age, and then tell them the cost of their movie\n",
    "ticket.\"\"\"\n",
    "age=int(input(\"enter age\"))\n",
    "if(age<=3):\n",
    "        ticket='free'\n",
    "elif(age >3 and age<=12):\n",
    "        ticket='10$'\n",
    "elif(age >12):\n",
    "        ticket='15$'\n",
    "        \n",
    "print(\"you have to pay\"+ticket)       \n",
    "    "
   ]
  },
  {
   "cell_type": "code",
   "execution_count": 5,
   "metadata": {},
   "outputs": [
    {
     "data": {
      "text/plain": [
       "'my favourite book isAlice in Wonderland'"
      ]
     },
     "execution_count": 5,
     "metadata": {},
     "output_type": "execute_result"
    }
   ],
   "source": [
    "\"\"\"\n",
    "Question4:\n",
    "Write a function called favorite_book() that accepts one parameter, title. The function should print a\n",
    "message, such as One of my favorite books is Alice in Wonderland. Call the function, making sure to\n",
    "include a book title as an argument in the function call.\"\"\"\n",
    "def favourite_book(title):#paramater\n",
    "       return(\"my favourite book is\"+title)\n",
    "favourite_book(\"Alice in Wonderland\")    \n",
    "        \n",
    "    \n"
   ]
  },
  {
   "cell_type": "code",
   "execution_count": null,
   "metadata": {},
   "outputs": [
    {
     "name": "stdout",
     "output_type": "stream",
     "text": [
      "Guess a number that's between 1 and 30: 3\n",
      "Guess again! 18\n",
      "Guess again! 25\n"
     ]
    }
   ],
   "source": [
    "\"\"\"\n",
    "Question5:\n",
    "Guess the number game\n",
    "Write a program which randomly generate a number between 1 to 30 and ask the user in input field to\n",
    "guess the correct number. Give three chances to user guess the number and also give hint to user if\n",
    "hidden number is greater or smaller than the number he given to input field.\"\"\"\n",
    "import random\n",
    "t=random.randint(1,30)\n",
    "g=int(input(\"Guess a number that's between 1 and 30: \"))\n",
    "while t!=g:\n",
    "    g=int(input(\"Guess again! \"))\n",
    "print(\"That's right!\")\n"
   ]
  },
  {
   "cell_type": "markdown",
   "metadata": {},
   "source": []
  },
  {
   "cell_type": "code",
   "execution_count": null,
   "metadata": {},
   "outputs": [],
   "source": []
  },
  {
   "cell_type": "code",
   "execution_count": null,
   "metadata": {},
   "outputs": [],
   "source": []
  },
  {
   "cell_type": "code",
   "execution_count": null,
   "metadata": {},
   "outputs": [],
   "source": []
  }
 ],
 "metadata": {
  "kernelspec": {
   "display_name": "Python 3",
   "language": "python",
   "name": "python3"
  },
  "language_info": {
   "codemirror_mode": {
    "name": "ipython",
    "version": 3
   },
   "file_extension": ".py",
   "mimetype": "text/x-python",
   "name": "python",
   "nbconvert_exporter": "python",
   "pygments_lexer": "ipython3",
   "version": "3.7.4"
  }
 },
 "nbformat": 4,
 "nbformat_minor": 2
}
